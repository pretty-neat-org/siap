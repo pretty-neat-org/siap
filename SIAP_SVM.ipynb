{
  "nbformat": 4,
  "nbformat_minor": 0,
  "metadata": {
    "colab": {
      "name": "SIAP SVM.ipynb",
      "provenance": [],
      "authorship_tag": "ABX9TyPcbiymuFhla5Gd5IvndNXW",
      "include_colab_link": true
    },
    "kernelspec": {
      "display_name": "Python 3",
      "name": "python3"
    },
    "language_info": {
      "name": "python"
    }
  },
  "cells": [
    {
      "cell_type": "markdown",
      "metadata": {
        "id": "view-in-github",
        "colab_type": "text"
      },
      "source": [
        "<a href=\"https://colab.research.google.com/github/pretty-neat-org/siap/blob/main/SIAP_SVM.ipynb\" target=\"_parent\"><img src=\"https://colab.research.google.com/assets/colab-badge.svg\" alt=\"Open In Colab\"/></a>"
      ]
    },
    {
      "cell_type": "markdown",
      "metadata": {
        "id": "fZo4RQbFVo1B"
      },
      "source": [
        "Imports\n"
      ]
    },
    {
      "cell_type": "code",
      "metadata": {
        "colab": {
          "base_uri": "https://localhost:8080/"
        },
        "id": "IgfsZ-GRXhAL",
        "outputId": "46127683-f51f-4f4b-eeed-d0d88b20dd28"
      },
      "source": [
        "from google.colab import drive\n",
        "drive.mount('/content/gdrive')\n",
        "!ln -s /content/gdrive/My\\ Drive/ /mydrive\n",
        "!ls /mydrive/SIAP"
      ],
      "execution_count": null,
      "outputs": [
        {
          "output_type": "stream",
          "text": [
            "Mounted at /content/gdrive\n",
            "config.json  data_mini_10k.csv\tfile.csv\t   in_domain_train.tsv\n",
            "data.csv     file5m.zip\t\tglove.6B.300d.txt  pytorch_model.bin\n"
          ],
          "name": "stdout"
        }
      ]
    },
    {
      "cell_type": "code",
      "metadata": {
        "colab": {
          "base_uri": "https://localhost:8080/"
        },
        "id": "FLDf367pVo7i",
        "outputId": "bb291281-f993-4a5f-e9bc-21f556b22d92"
      },
      "source": [
        "import pandas as pd\n",
        "\n",
        "import time\n",
        "import pickle\n",
        "import os\n",
        "\n",
        "import nltk\n",
        "\n",
        "# download just the first time\n",
        "nltk.download('all')\n",
        "from nltk.corpus import wordnet\n",
        "from nltk.stem import WordNetLemmatizer\n",
        "\n",
        "from sklearn.feature_extraction.text import TfidfVectorizer\n",
        "\n",
        "from sklearn.model_selection import train_test_split\n",
        "from sklearn import svm\n",
        "from sklearn import metrics"
      ],
      "execution_count": 19,
      "outputs": [
        {
          "output_type": "stream",
          "text": [
            "[nltk_data] Downloading collection 'all'\n",
            "[nltk_data]    | \n",
            "[nltk_data]    | Downloading package abc to /root/nltk_data...\n",
            "[nltk_data]    |   Package abc is already up-to-date!\n",
            "[nltk_data]    | Downloading package alpino to /root/nltk_data...\n",
            "[nltk_data]    |   Package alpino is already up-to-date!\n",
            "[nltk_data]    | Downloading package biocreative_ppi to\n",
            "[nltk_data]    |     /root/nltk_data...\n",
            "[nltk_data]    |   Package biocreative_ppi is already up-to-date!\n",
            "[nltk_data]    | Downloading package brown to /root/nltk_data...\n",
            "[nltk_data]    |   Package brown is already up-to-date!\n",
            "[nltk_data]    | Downloading package brown_tei to /root/nltk_data...\n",
            "[nltk_data]    |   Package brown_tei is already up-to-date!\n",
            "[nltk_data]    | Downloading package cess_cat to /root/nltk_data...\n",
            "[nltk_data]    |   Package cess_cat is already up-to-date!\n",
            "[nltk_data]    | Downloading package cess_esp to /root/nltk_data...\n",
            "[nltk_data]    |   Package cess_esp is already up-to-date!\n",
            "[nltk_data]    | Downloading package chat80 to /root/nltk_data...\n",
            "[nltk_data]    |   Package chat80 is already up-to-date!\n",
            "[nltk_data]    | Downloading package city_database to\n",
            "[nltk_data]    |     /root/nltk_data...\n",
            "[nltk_data]    |   Package city_database is already up-to-date!\n",
            "[nltk_data]    | Downloading package cmudict to /root/nltk_data...\n",
            "[nltk_data]    |   Package cmudict is already up-to-date!\n",
            "[nltk_data]    | Downloading package comparative_sentences to\n",
            "[nltk_data]    |     /root/nltk_data...\n",
            "[nltk_data]    |   Package comparative_sentences is already up-to-\n",
            "[nltk_data]    |       date!\n",
            "[nltk_data]    | Downloading package comtrans to /root/nltk_data...\n",
            "[nltk_data]    |   Package comtrans is already up-to-date!\n",
            "[nltk_data]    | Downloading package conll2000 to /root/nltk_data...\n",
            "[nltk_data]    |   Package conll2000 is already up-to-date!\n",
            "[nltk_data]    | Downloading package conll2002 to /root/nltk_data...\n",
            "[nltk_data]    |   Package conll2002 is already up-to-date!\n",
            "[nltk_data]    | Downloading package conll2007 to /root/nltk_data...\n",
            "[nltk_data]    |   Package conll2007 is already up-to-date!\n",
            "[nltk_data]    | Downloading package crubadan to /root/nltk_data...\n",
            "[nltk_data]    |   Package crubadan is already up-to-date!\n",
            "[nltk_data]    | Downloading package dependency_treebank to\n",
            "[nltk_data]    |     /root/nltk_data...\n",
            "[nltk_data]    |   Package dependency_treebank is already up-to-date!\n",
            "[nltk_data]    | Downloading package dolch to /root/nltk_data...\n",
            "[nltk_data]    |   Package dolch is already up-to-date!\n",
            "[nltk_data]    | Downloading package europarl_raw to\n",
            "[nltk_data]    |     /root/nltk_data...\n",
            "[nltk_data]    |   Package europarl_raw is already up-to-date!\n",
            "[nltk_data]    | Downloading package floresta to /root/nltk_data...\n",
            "[nltk_data]    |   Package floresta is already up-to-date!\n",
            "[nltk_data]    | Downloading package framenet_v15 to\n",
            "[nltk_data]    |     /root/nltk_data...\n",
            "[nltk_data]    |   Package framenet_v15 is already up-to-date!\n",
            "[nltk_data]    | Downloading package framenet_v17 to\n",
            "[nltk_data]    |     /root/nltk_data...\n",
            "[nltk_data]    |   Package framenet_v17 is already up-to-date!\n",
            "[nltk_data]    | Downloading package gazetteers to /root/nltk_data...\n",
            "[nltk_data]    |   Package gazetteers is already up-to-date!\n",
            "[nltk_data]    | Downloading package genesis to /root/nltk_data...\n",
            "[nltk_data]    |   Package genesis is already up-to-date!\n",
            "[nltk_data]    | Downloading package gutenberg to /root/nltk_data...\n",
            "[nltk_data]    |   Package gutenberg is already up-to-date!\n",
            "[nltk_data]    | Downloading package ieer to /root/nltk_data...\n",
            "[nltk_data]    |   Package ieer is already up-to-date!\n",
            "[nltk_data]    | Downloading package inaugural to /root/nltk_data...\n",
            "[nltk_data]    |   Package inaugural is already up-to-date!\n",
            "[nltk_data]    | Downloading package indian to /root/nltk_data...\n",
            "[nltk_data]    |   Package indian is already up-to-date!\n",
            "[nltk_data]    | Downloading package jeita to /root/nltk_data...\n",
            "[nltk_data]    |   Package jeita is already up-to-date!\n",
            "[nltk_data]    | Downloading package kimmo to /root/nltk_data...\n",
            "[nltk_data]    |   Package kimmo is already up-to-date!\n",
            "[nltk_data]    | Downloading package knbc to /root/nltk_data...\n",
            "[nltk_data]    |   Package knbc is already up-to-date!\n",
            "[nltk_data]    | Downloading package lin_thesaurus to\n",
            "[nltk_data]    |     /root/nltk_data...\n",
            "[nltk_data]    |   Package lin_thesaurus is already up-to-date!\n",
            "[nltk_data]    | Downloading package mac_morpho to /root/nltk_data...\n",
            "[nltk_data]    |   Package mac_morpho is already up-to-date!\n",
            "[nltk_data]    | Downloading package machado to /root/nltk_data...\n",
            "[nltk_data]    |   Package machado is already up-to-date!\n",
            "[nltk_data]    | Downloading package masc_tagged to /root/nltk_data...\n",
            "[nltk_data]    |   Package masc_tagged is already up-to-date!\n",
            "[nltk_data]    | Downloading package moses_sample to\n",
            "[nltk_data]    |     /root/nltk_data...\n",
            "[nltk_data]    |   Package moses_sample is already up-to-date!\n",
            "[nltk_data]    | Downloading package movie_reviews to\n",
            "[nltk_data]    |     /root/nltk_data...\n",
            "[nltk_data]    |   Package movie_reviews is already up-to-date!\n",
            "[nltk_data]    | Downloading package names to /root/nltk_data...\n",
            "[nltk_data]    |   Package names is already up-to-date!\n",
            "[nltk_data]    | Downloading package nombank.1.0 to /root/nltk_data...\n",
            "[nltk_data]    |   Package nombank.1.0 is already up-to-date!\n",
            "[nltk_data]    | Downloading package nps_chat to /root/nltk_data...\n",
            "[nltk_data]    |   Package nps_chat is already up-to-date!\n",
            "[nltk_data]    | Downloading package omw to /root/nltk_data...\n",
            "[nltk_data]    |   Package omw is already up-to-date!\n",
            "[nltk_data]    | Downloading package opinion_lexicon to\n",
            "[nltk_data]    |     /root/nltk_data...\n",
            "[nltk_data]    |   Package opinion_lexicon is already up-to-date!\n",
            "[nltk_data]    | Downloading package paradigms to /root/nltk_data...\n",
            "[nltk_data]    |   Package paradigms is already up-to-date!\n",
            "[nltk_data]    | Downloading package pil to /root/nltk_data...\n",
            "[nltk_data]    |   Package pil is already up-to-date!\n",
            "[nltk_data]    | Downloading package pl196x to /root/nltk_data...\n",
            "[nltk_data]    |   Package pl196x is already up-to-date!\n",
            "[nltk_data]    | Downloading package ppattach to /root/nltk_data...\n",
            "[nltk_data]    |   Package ppattach is already up-to-date!\n",
            "[nltk_data]    | Downloading package problem_reports to\n",
            "[nltk_data]    |     /root/nltk_data...\n",
            "[nltk_data]    |   Package problem_reports is already up-to-date!\n",
            "[nltk_data]    | Downloading package propbank to /root/nltk_data...\n",
            "[nltk_data]    |   Package propbank is already up-to-date!\n",
            "[nltk_data]    | Downloading package ptb to /root/nltk_data...\n",
            "[nltk_data]    |   Package ptb is already up-to-date!\n",
            "[nltk_data]    | Downloading package product_reviews_1 to\n",
            "[nltk_data]    |     /root/nltk_data...\n",
            "[nltk_data]    |   Package product_reviews_1 is already up-to-date!\n",
            "[nltk_data]    | Downloading package product_reviews_2 to\n",
            "[nltk_data]    |     /root/nltk_data...\n",
            "[nltk_data]    |   Package product_reviews_2 is already up-to-date!\n",
            "[nltk_data]    | Downloading package pros_cons to /root/nltk_data...\n",
            "[nltk_data]    |   Package pros_cons is already up-to-date!\n",
            "[nltk_data]    | Downloading package qc to /root/nltk_data...\n",
            "[nltk_data]    |   Package qc is already up-to-date!\n",
            "[nltk_data]    | Downloading package reuters to /root/nltk_data...\n",
            "[nltk_data]    |   Package reuters is already up-to-date!\n",
            "[nltk_data]    | Downloading package rte to /root/nltk_data...\n",
            "[nltk_data]    |   Package rte is already up-to-date!\n",
            "[nltk_data]    | Downloading package semcor to /root/nltk_data...\n",
            "[nltk_data]    |   Package semcor is already up-to-date!\n",
            "[nltk_data]    | Downloading package senseval to /root/nltk_data...\n",
            "[nltk_data]    |   Package senseval is already up-to-date!\n",
            "[nltk_data]    | Downloading package sentiwordnet to\n",
            "[nltk_data]    |     /root/nltk_data...\n",
            "[nltk_data]    |   Package sentiwordnet is already up-to-date!\n",
            "[nltk_data]    | Downloading package sentence_polarity to\n",
            "[nltk_data]    |     /root/nltk_data...\n",
            "[nltk_data]    |   Package sentence_polarity is already up-to-date!\n",
            "[nltk_data]    | Downloading package shakespeare to /root/nltk_data...\n",
            "[nltk_data]    |   Package shakespeare is already up-to-date!\n",
            "[nltk_data]    | Downloading package sinica_treebank to\n",
            "[nltk_data]    |     /root/nltk_data...\n",
            "[nltk_data]    |   Package sinica_treebank is already up-to-date!\n",
            "[nltk_data]    | Downloading package smultron to /root/nltk_data...\n",
            "[nltk_data]    |   Package smultron is already up-to-date!\n",
            "[nltk_data]    | Downloading package state_union to /root/nltk_data...\n",
            "[nltk_data]    |   Package state_union is already up-to-date!\n",
            "[nltk_data]    | Downloading package stopwords to /root/nltk_data...\n",
            "[nltk_data]    |   Package stopwords is already up-to-date!\n",
            "[nltk_data]    | Downloading package subjectivity to\n",
            "[nltk_data]    |     /root/nltk_data...\n",
            "[nltk_data]    |   Package subjectivity is already up-to-date!\n",
            "[nltk_data]    | Downloading package swadesh to /root/nltk_data...\n",
            "[nltk_data]    |   Package swadesh is already up-to-date!\n",
            "[nltk_data]    | Downloading package switchboard to /root/nltk_data...\n",
            "[nltk_data]    |   Package switchboard is already up-to-date!\n",
            "[nltk_data]    | Downloading package timit to /root/nltk_data...\n",
            "[nltk_data]    |   Package timit is already up-to-date!\n",
            "[nltk_data]    | Downloading package toolbox to /root/nltk_data...\n",
            "[nltk_data]    |   Package toolbox is already up-to-date!\n",
            "[nltk_data]    | Downloading package treebank to /root/nltk_data...\n",
            "[nltk_data]    |   Package treebank is already up-to-date!\n",
            "[nltk_data]    | Downloading package twitter_samples to\n",
            "[nltk_data]    |     /root/nltk_data...\n",
            "[nltk_data]    |   Package twitter_samples is already up-to-date!\n",
            "[nltk_data]    | Downloading package udhr to /root/nltk_data...\n",
            "[nltk_data]    |   Package udhr is already up-to-date!\n",
            "[nltk_data]    | Downloading package udhr2 to /root/nltk_data...\n",
            "[nltk_data]    |   Package udhr2 is already up-to-date!\n",
            "[nltk_data]    | Downloading package unicode_samples to\n",
            "[nltk_data]    |     /root/nltk_data...\n",
            "[nltk_data]    |   Package unicode_samples is already up-to-date!\n",
            "[nltk_data]    | Downloading package universal_treebanks_v20 to\n",
            "[nltk_data]    |     /root/nltk_data...\n",
            "[nltk_data]    |   Package universal_treebanks_v20 is already up-to-\n",
            "[nltk_data]    |       date!\n",
            "[nltk_data]    | Downloading package verbnet to /root/nltk_data...\n",
            "[nltk_data]    |   Package verbnet is already up-to-date!\n",
            "[nltk_data]    | Downloading package verbnet3 to /root/nltk_data...\n",
            "[nltk_data]    |   Package verbnet3 is already up-to-date!\n",
            "[nltk_data]    | Downloading package webtext to /root/nltk_data...\n",
            "[nltk_data]    |   Package webtext is already up-to-date!\n",
            "[nltk_data]    | Downloading package wordnet to /root/nltk_data...\n",
            "[nltk_data]    |   Package wordnet is already up-to-date!\n",
            "[nltk_data]    | Downloading package wordnet_ic to /root/nltk_data...\n",
            "[nltk_data]    |   Package wordnet_ic is already up-to-date!\n",
            "[nltk_data]    | Downloading package words to /root/nltk_data...\n",
            "[nltk_data]    |   Package words is already up-to-date!\n",
            "[nltk_data]    | Downloading package ycoe to /root/nltk_data...\n",
            "[nltk_data]    |   Package ycoe is already up-to-date!\n",
            "[nltk_data]    | Downloading package rslp to /root/nltk_data...\n",
            "[nltk_data]    |   Package rslp is already up-to-date!\n",
            "[nltk_data]    | Downloading package maxent_treebank_pos_tagger to\n",
            "[nltk_data]    |     /root/nltk_data...\n",
            "[nltk_data]    |   Package maxent_treebank_pos_tagger is already up-\n",
            "[nltk_data]    |       to-date!\n",
            "[nltk_data]    | Downloading package universal_tagset to\n",
            "[nltk_data]    |     /root/nltk_data...\n",
            "[nltk_data]    |   Package universal_tagset is already up-to-date!\n",
            "[nltk_data]    | Downloading package maxent_ne_chunker to\n",
            "[nltk_data]    |     /root/nltk_data...\n",
            "[nltk_data]    |   Package maxent_ne_chunker is already up-to-date!\n",
            "[nltk_data]    | Downloading package punkt to /root/nltk_data...\n",
            "[nltk_data]    |   Package punkt is already up-to-date!\n",
            "[nltk_data]    | Downloading package book_grammars to\n",
            "[nltk_data]    |     /root/nltk_data...\n",
            "[nltk_data]    |   Package book_grammars is already up-to-date!\n",
            "[nltk_data]    | Downloading package sample_grammars to\n",
            "[nltk_data]    |     /root/nltk_data...\n",
            "[nltk_data]    |   Package sample_grammars is already up-to-date!\n",
            "[nltk_data]    | Downloading package spanish_grammars to\n",
            "[nltk_data]    |     /root/nltk_data...\n",
            "[nltk_data]    |   Package spanish_grammars is already up-to-date!\n",
            "[nltk_data]    | Downloading package basque_grammars to\n",
            "[nltk_data]    |     /root/nltk_data...\n",
            "[nltk_data]    |   Package basque_grammars is already up-to-date!\n",
            "[nltk_data]    | Downloading package large_grammars to\n",
            "[nltk_data]    |     /root/nltk_data...\n",
            "[nltk_data]    |   Package large_grammars is already up-to-date!\n",
            "[nltk_data]    | Downloading package tagsets to /root/nltk_data...\n",
            "[nltk_data]    |   Package tagsets is already up-to-date!\n",
            "[nltk_data]    | Downloading package snowball_data to\n",
            "[nltk_data]    |     /root/nltk_data...\n",
            "[nltk_data]    |   Package snowball_data is already up-to-date!\n",
            "[nltk_data]    | Downloading package bllip_wsj_no_aux to\n",
            "[nltk_data]    |     /root/nltk_data...\n",
            "[nltk_data]    |   Package bllip_wsj_no_aux is already up-to-date!\n",
            "[nltk_data]    | Downloading package word2vec_sample to\n",
            "[nltk_data]    |     /root/nltk_data...\n",
            "[nltk_data]    |   Package word2vec_sample is already up-to-date!\n",
            "[nltk_data]    | Downloading package panlex_swadesh to\n",
            "[nltk_data]    |     /root/nltk_data...\n",
            "[nltk_data]    |   Package panlex_swadesh is already up-to-date!\n",
            "[nltk_data]    | Downloading package mte_teip5 to /root/nltk_data...\n",
            "[nltk_data]    |   Package mte_teip5 is already up-to-date!\n",
            "[nltk_data]    | Downloading package averaged_perceptron_tagger to\n",
            "[nltk_data]    |     /root/nltk_data...\n",
            "[nltk_data]    |   Package averaged_perceptron_tagger is already up-\n",
            "[nltk_data]    |       to-date!\n",
            "[nltk_data]    | Downloading package averaged_perceptron_tagger_ru to\n",
            "[nltk_data]    |     /root/nltk_data...\n",
            "[nltk_data]    |   Package averaged_perceptron_tagger_ru is already\n",
            "[nltk_data]    |       up-to-date!\n",
            "[nltk_data]    | Downloading package perluniprops to\n",
            "[nltk_data]    |     /root/nltk_data...\n",
            "[nltk_data]    |   Package perluniprops is already up-to-date!\n",
            "[nltk_data]    | Downloading package nonbreaking_prefixes to\n",
            "[nltk_data]    |     /root/nltk_data...\n",
            "[nltk_data]    |   Package nonbreaking_prefixes is already up-to-date!\n",
            "[nltk_data]    | Downloading package vader_lexicon to\n",
            "[nltk_data]    |     /root/nltk_data...\n",
            "[nltk_data]    |   Package vader_lexicon is already up-to-date!\n",
            "[nltk_data]    | Downloading package porter_test to /root/nltk_data...\n",
            "[nltk_data]    |   Package porter_test is already up-to-date!\n",
            "[nltk_data]    | Downloading package wmt15_eval to /root/nltk_data...\n",
            "[nltk_data]    |   Package wmt15_eval is already up-to-date!\n",
            "[nltk_data]    | Downloading package mwa_ppdb to /root/nltk_data...\n",
            "[nltk_data]    |   Package mwa_ppdb is already up-to-date!\n",
            "[nltk_data]    | \n",
            "[nltk_data]  Done downloading collection all\n"
          ],
          "name": "stdout"
        }
      ]
    },
    {
      "cell_type": "markdown",
      "metadata": {
        "id": "7mJOqfA_V00G"
      },
      "source": [
        "Functions for preparing data"
      ]
    },
    {
      "cell_type": "code",
      "metadata": {
        "id": "tMMY18diV4C6"
      },
      "source": [
        "'''Function for converting string to wordnet tag.'''\n",
        "\n",
        "def convert_to_wordnet_tag(string_tag):\n",
        "    if string_tag.startswith('J'):\n",
        "        return wordnet.ADJ\n",
        "    elif string_tag.startswith('V'):\n",
        "        return wordnet.VERB\n",
        "    elif string_tag.startswith('N'):\n",
        "        return wordnet.NOUN\n",
        "    elif string_tag.startswith('R'):\n",
        "        return wordnet.ADV\n",
        "    else:\n",
        "        return None\n",
        "\n",
        "'''Function for lemmatizing one comment(sentence).'''\n",
        "\n",
        "def lemmatize_comment(comment, lemmatizer):\n",
        "    nltk_with_tags = nltk.pos_tag(nltk.word_tokenize(comment))  # word + tag (string_tag in function above)\n",
        "    result_words = []\n",
        "    for word, tag in map(lambda x: (x[0], convert_to_wordnet_tag(x[1])), nltk_with_tags): # mapping to right shape\n",
        "        if tag is None:\n",
        "            result_words.append(word)\n",
        "        else:\n",
        "            result_words.append(lemmatizer.lemmatize(word, tag))\n",
        "    return \" \".join(result_words)\n",
        "\n",
        "'''Function for lemmatizing whole corpus(multiple sentences).'''\n",
        "\n",
        "def lemmatize_corpus(comments, lemmatizer):\n",
        "    lemmatized_comments = []\n",
        "    for q in comments:\n",
        "        new_q = lemmatize_comment(q, lemmatizer)\n",
        "        lemmatized_comments.append(new_q)\n",
        "    return lemmatized_comments\n",
        "\n",
        "def lemmatization(comments, lemmatizer):\n",
        "    if os.path.isfile('gdrive/MyDrive/SIAP/serialized/lemmatized_comments.pkl'):\n",
        "        with open('gdrive/MyDrive/SIAP/serialized/lemmatized_comments.pkl', 'rb') as f:\n",
        "            deserialized_lemmatized_comments = pickle.load(f)\n",
        "        if deserialized_lemmatized_comments is not None:\n",
        "            lemmatized_comments = deserialized_lemmatized_comments\n",
        "    else:\n",
        "        print(\"Lemmatization...\")\n",
        "        start_time = time.time()\n",
        "        lemmatized_comments = lemmatize_corpus(comments, lemmatizer)\n",
        "        print(\"Lemmatization time: \" + str(time.time() - start_time))\n",
        "        with open('gdrive/MyDrive/SIAP/serialized/lemmatized_comments.pkl', 'wb') as f:\n",
        "            pickle.dump(lemmatized_comments, f)\n",
        "\n",
        "    return lemmatized_comments"
      ],
      "execution_count": 20,
      "outputs": []
    },
    {
      "cell_type": "markdown",
      "metadata": {
        "id": "EQllDX0lWNPc"
      },
      "source": [
        "Function for TF - IDF calculations"
      ]
    },
    {
      "cell_type": "code",
      "metadata": {
        "id": "daJp-obbWRnW"
      },
      "source": [
        "def tf_idf_calculation(comments, vectorizer):\n",
        "    tf_idf_vectors = vectorizer.fit_transform(comments)\n",
        "    vocab = vectorizer.get_feature_names()\n",
        "    return tf_idf_vectors, vocab"
      ],
      "execution_count": 21,
      "outputs": []
    },
    {
      "cell_type": "markdown",
      "metadata": {
        "id": "9G_oZmC3WV8s"
      },
      "source": [
        "Balancing dataset"
      ]
    },
    {
      "cell_type": "code",
      "metadata": {
        "id": "XtdS-MMKWcUP"
      },
      "source": [
        "def balance_dataset(df):\n",
        "    print(df.columns)\n",
        "    # Jaaaako bitno! U datasetu imaju null vrste, ovim ih izbacujemo\n",
        "    df = df.dropna(subset=['body'])\n",
        "\n",
        "\n",
        "    controverse_comments = df[df['controversiality'] == 1]\n",
        "    non_contraverse = df[:11000]\n",
        "\n",
        "    df = controverse_comments.append(non_contraverse, ignore_index=True)\n",
        "    return df"
      ],
      "execution_count": 22,
      "outputs": []
    },
    {
      "cell_type": "markdown",
      "metadata": {
        "id": "tMU7it89Wpam"
      },
      "source": [
        "Function for testing model on new comment"
      ]
    },
    {
      "cell_type": "code",
      "metadata": {
        "id": "nBTCHw--W3mF"
      },
      "source": [
        "def test_model_on_new_comment(novi_komentar, model):\n",
        "    novi_komentar_lemmatized = lemmatize_comment(novi_komentar, lemmatizer)\n",
        "    new_comment_vectorized_1 = vectorizer_1.transform([novi_komentar_lemmatized])\n",
        "\n",
        "\n",
        "    prediction = model.predict(new_comment_vectorized_1)\n",
        "    print(prediction)"
      ],
      "execution_count": 23,
      "outputs": []
    },
    {
      "cell_type": "markdown",
      "metadata": {
        "id": "PockxXKLW5j1"
      },
      "source": [
        "MAIN - praparing data for model fitting and fitting a model"
      ]
    },
    {
      "cell_type": "code",
      "metadata": {
        "colab": {
          "base_uri": "https://localhost:8080/"
        },
        "id": "VthGJepcW6er",
        "outputId": "c03a4020-36ac-49fb-bb4d-eb00aa27936e"
      },
      "source": [
        "    df = pd.read_csv('gdrive/MyDrive/SIAP/file.csv')\n",
        "    df = balance_dataset(df)\n",
        "\n",
        "    df['body'] = df['body'].str.replace(r'http\\S+', '')\n",
        "    df['body'] = df['body'].str.replace(r'[^\\w\\s]', '')\n",
        "    df['body'] = df['body'].str.replace(r\"([^\\x00-\\x7F])+\", '')\n",
        "    df['body'] = df['body'].str.lower()\n",
        "\n",
        "    # lista sa oznakom kontroverznosti komentara 0 i 1\n",
        "    controversialites = df['controversiality']\n",
        "    controverse_comments = df[df['controversiality'] == 1]\n",
        "\n",
        "\n",
        "    # svi komentari kojima odgovaraju oznake kontroverznosti iz liste gore\n",
        "    comments = df['body']\n",
        "    all_comments = comments.to_numpy()\n",
        "\n",
        "    #all_comments = all_comments[~pd.isnull(all_comments)] # izbacivanje null vrednosti, ali ne treba jer smo vec izbacili iz df\n",
        "\n",
        "    # Definisemo lemmatizer, mozemo da probamo i neki drugi\n",
        "    lemmatizer = WordNetLemmatizer()\n",
        "    lemmatized_comment = lemmatization(all_comments, lemmatizer)\n",
        "\n",
        "    # Definisemo vectorizer\n",
        "    vectorizer_1 = TfidfVectorizer()\n",
        "    tf_idf_vectors_1, _ = tf_idf_calculation(lemmatized_comment, vectorizer_1)\n",
        "\n",
        "    # SVM\n",
        "    # Deljenje dataseta na obucavajuci i trening\n",
        "    X_train, X_test, y_train, y_test = train_test_split(tf_idf_vectors_1, controversialites, test_size=0.3,\n",
        "                                                        random_state=109)  # 70% training and 30% test\n",
        "\n",
        "    # Kreiranje svm Classifier-a\n",
        "    clf = svm.SVC(kernel='linear')  # Linear Kernel\n",
        "\n",
        "    # Treniranje modela za trening podacima\n",
        "    clf.fit(X_train, y_train)\n",
        "\n",
        "    # Predict the response for test dataset\n",
        "    y_pred = clf.predict(X_test)\n",
        "\n",
        "    print(\"Accuracy:\", metrics.accuracy_score(y_test, y_pred))\n",
        "\n",
        "    # Model Precision: what percentage of positive tuples are labeled as such?\n",
        "    print(\"Precision:\", metrics.precision_score(y_test, y_pred, zero_division = True))\n",
        "\n",
        "    # Model Recall: what percentage of positive tuples are labelled as such?\n",
        "    print(\"Recall:\", metrics.recall_score(y_test, y_pred, zero_division = True))"
      ],
      "execution_count": 29,
      "outputs": [
        {
          "output_type": "stream",
          "text": [
            "Index(['created_utc', 'ups', 'subreddit_id', 'link_id', 'name', 'score_hidden',\n",
            "       'author_flair_css_class', 'author_flair_text', 'subreddit', 'id',\n",
            "       'removal_reason', 'gilded', 'downs', 'archived', 'author', 'score',\n",
            "       'retrieved_on', 'body', 'distinguished', 'edited', 'controversiality',\n",
            "       'parent_id'],\n",
            "      dtype='object')\n",
            "Accuracy: 0.6601257090295876\n",
            "Precision: 0.6656617425384384\n",
            "Recall: 0.6658624849215923\n"
          ],
          "name": "stdout"
        }
      ]
    },
    {
      "cell_type": "markdown",
      "metadata": {
        "id": "vEEe0rEzXRIE"
      },
      "source": [
        "Testing on new question\n"
      ]
    },
    {
      "cell_type": "code",
      "metadata": {
        "id": "buc6UQTJXU5r",
        "colab": {
          "base_uri": "https://localhost:8080/"
        },
        "outputId": "15e02ce9-1dae-4270-c9ea-173cdcc82284"
      },
      "source": [
        "  novi_komentar = all_comments[1]\n",
        "  print(novi_komentar)\n",
        "  test_model_on_new_comment(novi_komentar, clf)\n",
        "\n",
        "  novi_komentar = all_comments[15000]\n",
        "  print(novi_komentar)\n",
        "  test_model_on_new_comment(novi_komentar, clf)"
      ],
      "execution_count": 26,
      "outputs": [
        {
          "output_type": "stream",
          "text": [
            "I honestly wouldn't have believed it if I didn't live it. She made his life hell and I had a front row seat. I'm just glad I had a front row seat to her confession and firing. :)\n",
            "[1]\n",
            "There are many who probably do not. And nothing protects against walking STDs. So, don't be silly. Wrap your willy.\n",
            "[0]\n"
          ],
          "name": "stdout"
        }
      ]
    }
  ]
}