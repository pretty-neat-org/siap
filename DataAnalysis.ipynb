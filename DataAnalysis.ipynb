{
  "nbformat": 4,
  "nbformat_minor": 0,
  "metadata": {
    "colab": {
      "name": "Untitled8.ipynb",
      "provenance": [],
      "toc_visible": true,
      "authorship_tag": "ABX9TyPaKBGN9nIu1GHCgXpO9ykP",
      "include_colab_link": true
    },
    "kernelspec": {
      "name": "python3",
      "display_name": "Python 3"
    },
    "language_info": {
      "name": "python"
    }
  },
  "cells": [
    {
      "cell_type": "markdown",
      "metadata": {
        "id": "view-in-github",
        "colab_type": "text"
      },
      "source": [
        "<a href=\"https://colab.research.google.com/github/pretty-neat-org/siap/blob/main/DataAnalysis.ipynb\" target=\"_parent\"><img src=\"https://colab.research.google.com/assets/colab-badge.svg\" alt=\"Open In Colab\"/></a>"
      ]
    },
    {
      "cell_type": "code",
      "metadata": {
        "colab": {
          "base_uri": "https://localhost:8080/"
        },
        "id": "QHhg3R9wLck7",
        "outputId": "42b2984e-c973-4858-a8bd-4df77a3505f5"
      },
      "source": [
        "from google.colab import drive\n",
        "drive.mount('/content/gdrive')\n",
        "!ln -s /content/gdrive/My\\ Drive/ /mydrive\n",
        "!ls /mydrive/SIAP"
      ],
      "execution_count": 1,
      "outputs": [
        {
          "output_type": "stream",
          "text": [
            "Drive already mounted at /content/gdrive; to attempt to forcibly remount, call drive.mount(\"/content/gdrive\", force_remount=True).\n",
            "ln: failed to create symbolic link '/mydrive/My Drive': File exists\n",
            "config.json  data_mini_10k.csv\tfile.csv\t   in_domain_train.tsv\n",
            "data.csv     file5m.zip\t\tglove.6B.300d.txt  pytorch_model.bin\n"
          ],
          "name": "stdout"
        }
      ]
    },
    {
      "cell_type": "markdown",
      "metadata": {
        "id": "qSO6-NEtLeZ2"
      },
      "source": [
        "## Data analysis on reddit dataset\n",
        "\n",
        "5 million rows out of 54 million total"
      ]
    },
    {
      "cell_type": "markdown",
      "metadata": {
        "id": "Rf_FmWGyR-tM"
      },
      "source": [
        "Load the data"
      ]
    },
    {
      "cell_type": "code",
      "metadata": {
        "colab": {
          "base_uri": "https://localhost:8080/"
        },
        "id": "OWWiIm-SSBof",
        "outputId": "e022ea91-c0e8-4cda-d054-49a4a04e1abd"
      },
      "source": [
        "import pandas as pd\n",
        "\n",
        "!apt install unzip\n",
        "!unzip  gdrive/MyDrive/SIAP/file5m.zip -d file\n",
        "\n",
        "df = pd.read_csv('file/file5m.csv')\n",
        "print(df.columns)"
      ],
      "execution_count": 2,
      "outputs": [
        {
          "output_type": "stream",
          "text": [
            "Reading package lists... Done\n",
            "Building dependency tree       \n",
            "Reading state information... Done\n",
            "unzip is already the newest version (6.0-21ubuntu1.1).\n",
            "The following package was automatically installed and is no longer required:\n",
            "  libnvidia-common-460\n",
            "Use 'apt autoremove' to remove it.\n",
            "0 upgraded, 0 newly installed, 0 to remove and 34 not upgraded.\n",
            "Archive:  gdrive/MyDrive/SIAP/file5m.zip\n",
            "replace file/file5m.csv? [y]es, [n]o, [A]ll, [N]one, [r]ename: n\n",
            "Index(['created_utc', 'ups', 'subreddit_id', 'link_id', 'name', 'score_hidden',\n",
            "       'author_flair_css_class', 'author_flair_text', 'subreddit', 'id',\n",
            "       'removal_reason', 'gilded', 'downs', 'archived', 'author', 'score',\n",
            "       'retrieved_on', 'body', 'distinguished', 'edited', 'controversiality',\n",
            "       'parent_id'],\n",
            "      dtype='object')\n"
          ],
          "name": "stdout"
        }
      ]
    },
    {
      "cell_type": "markdown",
      "metadata": {
        "id": "dIm22fgESFMY"
      },
      "source": [
        "Analyse comment lengths"
      ]
    },
    {
      "cell_type": "code",
      "metadata": {
        "colab": {
          "base_uri": "https://localhost:8080/",
          "height": 198
        },
        "id": "kasSed0aSJIA",
        "outputId": "1038d501-b1ad-4721-9e41-53e75be9fec2"
      },
      "source": [
        "# message length\n",
        "df['comment_length'] = df['body'].apply(lambda body: len(str(body)))\n",
        "df[['body','comment_length']].head()\n"
      ],
      "execution_count": 3,
      "outputs": [
        {
          "output_type": "execute_result",
          "data": {
            "text/html": [
              "<div>\n",
              "<style scoped>\n",
              "    .dataframe tbody tr th:only-of-type {\n",
              "        vertical-align: middle;\n",
              "    }\n",
              "\n",
              "    .dataframe tbody tr th {\n",
              "        vertical-align: top;\n",
              "    }\n",
              "\n",
              "    .dataframe thead th {\n",
              "        text-align: right;\n",
              "    }\n",
              "</style>\n",
              "<table border=\"1\" class=\"dataframe\">\n",
              "  <thead>\n",
              "    <tr style=\"text-align: right;\">\n",
              "      <th></th>\n",
              "      <th>body</th>\n",
              "      <th>comment_length</th>\n",
              "    </tr>\n",
              "  </thead>\n",
              "  <tbody>\n",
              "    <tr>\n",
              "      <th>0</th>\n",
              "      <td>くそ\\n読みたいが買ったら負けな気がする\\n図書館に出ねーかな</td>\n",
              "      <td>29</td>\n",
              "    </tr>\n",
              "    <tr>\n",
              "      <th>1</th>\n",
              "      <td>gg this one's over. off to watch the NFL draft...</td>\n",
              "      <td>54</td>\n",
              "    </tr>\n",
              "    <tr>\n",
              "      <th>2</th>\n",
              "      <td>Are you really implying we return to those tim...</td>\n",
              "      <td>226</td>\n",
              "    </tr>\n",
              "    <tr>\n",
              "      <th>3</th>\n",
              "      <td>No one has a European accent either  because i...</td>\n",
              "      <td>119</td>\n",
              "    </tr>\n",
              "    <tr>\n",
              "      <th>4</th>\n",
              "      <td>That the kid \"..reminds me of Kevin.\"   so sad...</td>\n",
              "      <td>50</td>\n",
              "    </tr>\n",
              "  </tbody>\n",
              "</table>\n",
              "</div>"
            ],
            "text/plain": [
              "                                                body  comment_length\n",
              "0                    くそ\\n読みたいが買ったら負けな気がする\\n図書館に出ねーかな              29\n",
              "1  gg this one's over. off to watch the NFL draft...              54\n",
              "2  Are you really implying we return to those tim...             226\n",
              "3  No one has a European accent either  because i...             119\n",
              "4  That the kid \"..reminds me of Kevin.\"   so sad...              50"
            ]
          },
          "metadata": {
            "tags": []
          },
          "execution_count": 3
        }
      ]
    },
    {
      "cell_type": "code",
      "metadata": {
        "colab": {
          "base_uri": "https://localhost:8080/",
          "height": 313
        },
        "id": "Qo4pkvj9S5QL",
        "outputId": "e0360b70-2bf3-450e-9d94-3f8558bf2f1d"
      },
      "source": [
        "import matplotlib.pyplot as plt\n",
        "%matplotlib inline\n",
        "import numpy as np\n",
        "\n",
        "plt.hist(df['comment_length'], bins=50, weights=np.ones(len(df))/len(df))\n",
        "plt.xlabel('Comment length')\n",
        "plt.title('Comment lengths')"
      ],
      "execution_count": 4,
      "outputs": [
        {
          "output_type": "execute_result",
          "data": {
            "text/plain": [
              "Text(0.5, 1.0, 'Comment lengths')"
            ]
          },
          "metadata": {
            "tags": []
          },
          "execution_count": 4
        },
        {
          "output_type": "display_data",
          "data": {
            "image/png": "[encoded data removed]",
            "text/plain": [
              "<Figure size 432x288 with 1 Axes>"
            ]
          },
          "metadata": {
            "tags": [],
            "needs_background": "light"
          }
        }
      ]
    },
    {
      "cell_type": "code",
      "metadata": {
        "colab": {
          "base_uri": "https://localhost:8080/"
        },
        "id": "IJJk-NXrUGFu",
        "outputId": "ae924d39-ca02-4e86-c21e-9984a01cc2ce"
      },
      "source": [
        "# extract controversial and non controversial\n",
        "controversial = df['body'].iloc[(df['controversiality'] == 1).values]\n",
        "non_controversial = df['body'].iloc[(df['controversiality'] == 0).values]\n",
        "print(controversial[:10])\n",
        "print(non_controversial[:10])"
      ],
      "execution_count": 5,
      "outputs": [
        {
          "output_type": "stream",
          "text": [
            "45     Because we aren't responsible for the actions ...\n",
            "57     I honestly wouldn't have believed it if I didn...\n",
            "61     There is also many intelligence service player...\n",
            "160    The implications of that varies between cultur...\n",
            "171    *I am a bot whose sole purpose is to improve t...\n",
            "176    You're just trying to get to the front page.  ...\n",
            "214    For those about to lynch this guy [here](http:...\n",
            "365    True, though you can find papers about early c...\n",
            "477    Yes. After days of dealing with car accidents ...\n",
            "559    Icefrog went fucking mad. \\n\\nI have literally...\n",
            "Name: body, dtype: object\n",
            "0                      くそ\\n読みたいが買ったら負けな気がする\\n図書館に出ねーかな\n",
            "1    gg this one's over. off to watch the NFL draft...\n",
            "2    Are you really implying we return to those tim...\n",
            "3    No one has a European accent either  because i...\n",
            "4    That the kid \"..reminds me of Kevin.\"   so sad...\n",
            "5    Haha, i was getting nauseous from it, if that ...\n",
            "6    After reading this, I wholeheartedly believe y...\n",
            "7       Let's do this. See you guys on the other side.\n",
            "8    You can buy a mystery sampler from small batch...\n",
            "9    Nihilum and LG are significantly better off in...\n",
            "Name: body, dtype: object\n"
          ],
          "name": "stdout"
        }
      ]
    },
    {
      "cell_type": "code",
      "metadata": {
        "colab": {
          "base_uri": "https://localhost:8080/",
          "height": 313
        },
        "id": "32cQ3qi6TPp6",
        "outputId": "cdbd531a-c783-48d8-e4ee-79f64af80c2a"
      },
      "source": [
        "plt.hist(controversial.apply(lambda x: len(str(x))),\n",
        "         bins=50,\n",
        "         weights=np.ones(len(controversial)) / len(controversial),\n",
        "         facecolor='r',\n",
        "         label='controversial')\n",
        "plt.hist(non_controversial.apply(lambda x: len(str(x))),\n",
        "         bins=50,\n",
        "         weights=np.ones(len(non_controversial)) / len(non_controversial),\n",
        "         facecolor='g',\n",
        "         alpha=0.8,\n",
        "         label='non controversial')\n",
        "plt.xlabel('Comment lenght')\n",
        "plt.ylabel('')\n",
        "plt.title('Controversial/non controversial comment lengths')\n",
        "plt.legend()"
      ],
      "execution_count": 6,
      "outputs": [
        {
          "output_type": "execute_result",
          "data": {
            "text/plain": [
              "<matplotlib.legend.Legend at 0x7ff3a53c5510>"
            ]
          },
          "metadata": {
            "tags": []
          },
          "execution_count": 6
        },
        {
          "output_type": "display_data",
          "data": {
            "image/png": "[encoded data removed]",
            "text/plain": [
              "<Figure size 432x288 with 1 Axes>"
            ]
          },
          "metadata": {
            "tags": [],
            "needs_background": "light"
          }
        }
      ]
    },
    {
      "cell_type": "markdown",
      "metadata": {
        "id": "0zZ8eGrpsgvm"
      },
      "source": [
        "Most common words in controversial and non controversial comments"
      ]
    },
    {
      "cell_type": "code",
      "metadata": {
        "colab": {
          "base_uri": "https://localhost:8080/",
          "height": 682
        },
        "id": "NO-hIo4kM5el",
        "outputId": "35a32473-babe-4c1c-8796-0715cfc29f29"
      },
      "source": [
        "# most common words in controversial comments\n",
        "# import nltk\n",
        "# nltk.download('punkt')\n",
        "# from nltk.corpus import stopwords\n",
        "# from nltk import word_tokenize\n",
        "# nltk.download('stopwords')\n",
        "from collections import Counter\n",
        "import string\n",
        "from wordcloud import WordCloud, STOPWORDS, ImageColorGenerator\n",
        "\n",
        "# cleaning\n",
        "\n",
        "cont_df = df[df.controversiality == 1]\n",
        "cont_df['body'] = cont_df['body'].str.replace(r'http\\S+', '')\n",
        "cont_df['body'] = cont_df['body'].str.replace(r'[^\\w\\s]', '')\n",
        "cont_df['body'] = cont_df['body'].str.replace(r\"([^\\x00-\\x7F])+\", '')\n",
        "cont_df['body'] = cont_df['body'].str.lower()\n",
        "\n",
        "\n",
        "# controversial = df['body'].iloc[(df['controversiality'] == 1).values]\n",
        "# non_controversial = df['body'].iloc[(df['controversiality'] == 0).values]\n",
        "# controversial_tokens = []\n",
        "# controversial_tokens_processed = []\n",
        "# for contr in controversial:\n",
        "#     if contr not in stop_words:\n",
        "#         controversial_tokens += nltk.tokenize.word_tokenize(str(contr))\n",
        "# for c in controversial_tokens:\n",
        "#    if c.lower() not in stop_words:\n",
        "#      controversial_tokens_processed.append(c.lower())\n",
        "\n",
        "# non_contr_tokens = []\n",
        "# non_contr_tokens_processed = []\n",
        "# for non_contr in non_controversial:\n",
        "#     if non_contr not in stop_words:\n",
        "#       non_contr_tokens += nltk.tokenize.word_tokenize(str(non_contr))\n",
        "# for nc in non_contr_tokens:\n",
        "#   if nc.lower() not in stop_words:\n",
        "#     non_contr_tokens_processed.append(nc.lower())\n",
        "\n",
        "# most_common_tokens_in_controversial = Counter(controversial_tokens_processed).most_common(20)\n",
        "# # most_common_tokens_in_non_controversial = Counter(non_contr_tokens_processed).most_common(20)\n",
        "# print(most_common_tokens_in_controversial)\n",
        "# # print(most_common_tokens_in_non_controversial)"
      ],
      "execution_count": 7,
      "outputs": [
        {
          "output_type": "stream",
          "text": [
            "/usr/local/lib/python3.7/dist-packages/ipykernel_launcher.py:14: SettingWithCopyWarning: \n",
            "A value is trying to be set on a copy of a slice from a DataFrame.\n",
            "Try using .loc[row_indexer,col_indexer] = value instead\n",
            "\n",
            "See the caveats in the documentation: https://pandas.pydata.org/pandas-docs/stable/user_guide/indexing.html#returning-a-view-versus-a-copy\n",
            "  \n",
            "/usr/local/lib/python3.7/dist-packages/ipykernel_launcher.py:15: SettingWithCopyWarning: \n",
            "A value is trying to be set on a copy of a slice from a DataFrame.\n",
            "Try using .loc[row_indexer,col_indexer] = value instead\n",
            "\n",
            "See the caveats in the documentation: https://pandas.pydata.org/pandas-docs/stable/user_guide/indexing.html#returning-a-view-versus-a-copy\n",
            "  from ipykernel import kernelapp as app\n",
            "/usr/local/lib/python3.7/dist-packages/ipykernel_launcher.py:16: SettingWithCopyWarning: \n",
            "A value is trying to be set on a copy of a slice from a DataFrame.\n",
            "Try using .loc[row_indexer,col_indexer] = value instead\n",
            "\n",
            "See the caveats in the documentation: https://pandas.pydata.org/pandas-docs/stable/user_guide/indexing.html#returning-a-view-versus-a-copy\n",
            "  app.launch_new_instance()\n",
            "/usr/local/lib/python3.7/dist-packages/ipykernel_launcher.py:17: SettingWithCopyWarning: \n",
            "A value is trying to be set on a copy of a slice from a DataFrame.\n",
            "Try using .loc[row_indexer,col_indexer] = value instead\n",
            "\n",
            "See the caveats in the documentation: https://pandas.pydata.org/pandas-docs/stable/user_guide/indexing.html#returning-a-view-versus-a-copy\n"
          ],
          "name": "stderr"
        },
        {
          "output_type": "error",
          "ename": "NameError",
          "evalue": "ignored",
          "traceback": [
            "\u001b[0;31m---------------------------------------------------------------------------\u001b[0m",
            "\u001b[0;31mNameError\u001b[0m                                 Traceback (most recent call last)",
            "\u001b[0;32m<ipython-input-7-73b18a819d53>\u001b[0m in \u001b[0;36m<module>\u001b[0;34m()\u001b[0m\n\u001b[1;32m     38\u001b[0m \u001b[0;31m#     non_contr_tokens_processed.append(nc.lower())\u001b[0m\u001b[0;34m\u001b[0m\u001b[0;34m\u001b[0m\u001b[0;34m\u001b[0m\u001b[0m\n\u001b[1;32m     39\u001b[0m \u001b[0;34m\u001b[0m\u001b[0m\n\u001b[0;32m---> 40\u001b[0;31m \u001b[0mmost_common_tokens_in_controversial\u001b[0m \u001b[0;34m=\u001b[0m \u001b[0mCounter\u001b[0m\u001b[0;34m(\u001b[0m\u001b[0mcontroversial_tokens_processed\u001b[0m\u001b[0;34m)\u001b[0m\u001b[0;34m.\u001b[0m\u001b[0mmost_common\u001b[0m\u001b[0;34m(\u001b[0m\u001b[0;36m20\u001b[0m\u001b[0;34m)\u001b[0m\u001b[0;34m\u001b[0m\u001b[0;34m\u001b[0m\u001b[0m\n\u001b[0m\u001b[1;32m     41\u001b[0m \u001b[0;31m# most_common_tokens_in_non_controversial = Counter(non_contr_tokens_processed).most_common(20)\u001b[0m\u001b[0;34m\u001b[0m\u001b[0;34m\u001b[0m\u001b[0;34m\u001b[0m\u001b[0m\n\u001b[1;32m     42\u001b[0m \u001b[0mprint\u001b[0m\u001b[0;34m(\u001b[0m\u001b[0mmost_common_tokens_in_controversial\u001b[0m\u001b[0;34m)\u001b[0m\u001b[0;34m\u001b[0m\u001b[0;34m\u001b[0m\u001b[0m\n",
            "\u001b[0;31mNameError\u001b[0m: name 'controversial_tokens_processed' is not defined"
          ]
        }
      ]
    },
    {
      "cell_type": "code",
      "metadata": {
        "id": "iMmUty1DEfSE",
        "outputId": "f4ae01bb-c894-4491-d557-f78b855bbc0a",
        "colab": {
          "base_uri": "https://localhost:8080/"
        }
      },
      "source": [
        "import spacy\n",
        "from tqdm import tqdm\n",
        "\n",
        "\n",
        "# Load English tokenizer, tagger, parser and NER\n",
        "nlp = spacy.load(\"en_core_web_sm\")\n",
        "cont = cont_df['body'].dropna()\n",
        "\n",
        "# # splitting and removing punctuation\n",
        "# controversial = cont_df['body'].str.split(' ')\n",
        "\n",
        "controversial_cleaned = []\n",
        "\n",
        "# for text in controversial:\n",
        "#     text = [str(x).strip(string.punctuation) for x in text]\n",
        "#     controversial_cleaned.append(text)\n",
        "\n",
        "# text_controversial = [\" \".join(text) for text in controversial_cleaned]\n",
        "# final = \" \".join(text_controversial)\n",
        "# final[:500]\n",
        "\n",
        "for text in tqdm(cont):\n",
        "    doc = nlp(text)\n",
        "    controversial_cleaned.append([token.lemma_ for token in doc if token.pos_ == \"VERB\" or  token.pos_ == \"NOUN\"])\n",
        "\n",
        "\n",
        "# generate wordcloud\n",
        "\n",
        "# stopwords = set(STOPWORDS)\n",
        "# stopwords.update([\"one\", \"well\", \"thats\", \"want\", \"need\", \"make\", \"say\", \"look\", \"thing\", \"dont\", \"im\", \"think\",\n",
        "#                   \"youre\", \"doesnt\", \"didnt\", \"isnt\", \"much\", \"even\", \"know\", \"said\", \"though\", \"go\", \"actually\",\n",
        "#                   \"hes\", \"us\", \"got\", \"probably\", \"many\", \"already\"])\n",
        "wordcloud = WordCloud( background_color=\"white\", max_font_size=50, max_words=100).generate(final)\n",
        "\n",
        "plt.figure(figsize = (20,20))\n",
        "plt.imshow(wordcloud, interpolation='bilinear')\n",
        "plt.axis(\"off\")\n",
        "plt.show()\n",
        "\n",
        "filtered_words = [word for word in final.split() if word not in stopwords]\n",
        "counted_words = Counter(filtered_words)\n",
        "\n",
        "word_count = {}\n",
        "\n",
        "for letter, count in counted_words.most_common(30):\n",
        "    word_count[letter] = count\n",
        "    \n",
        "for i,j in word_count.items():\n",
        "        print('Word: {0}, count: {1}'.format(i,j))\n"
      ],
      "execution_count": null,
      "outputs": [
        {
          "output_type": "stream",
          "text": [
            " 54%|█████▍    | 66390/123478 [41:32<32:09, 29.59it/s]"
          ],
          "name": "stderr"
        }
      ]
    },
    {
      "cell_type": "markdown",
      "metadata": {
        "id": "ZfT9x2QVsu3j"
      },
      "source": [
        "Dataframe column correlations"
      ]
    },
    {
      "cell_type": "code",
      "metadata": {
        "id": "5j_jT1glzS_e"
      },
      "source": [
        "df.info()"
      ],
      "execution_count": null,
      "outputs": []
    },
    {
      "cell_type": "code",
      "metadata": {
        "id": "yjZu_ku30Kr3"
      },
      "source": [
        "df.describe()"
      ],
      "execution_count": null,
      "outputs": []
    },
    {
      "cell_type": "code",
      "metadata": {
        "id": "QuFuQ44ww0UU"
      },
      "source": [
        "print(df.distinguished.unique())\n",
        "df['distinguished'] = df['distinguished'].fillna(0)\n",
        "print(df.distinguished.unique())\n",
        "df['distinguished'] = pd.Categorical(df['distinguished'], categories=df['distinguished'].unique()).codes\n",
        "print(df.distinguished.unique())"
      ],
      "execution_count": null,
      "outputs": []
    },
    {
      "cell_type": "code",
      "metadata": {
        "id": "Y3140Pvols_6"
      },
      "source": [
        "import seaborn as sns\n",
        "\n",
        "corr = df.corr(method ='pearson')[['controversiality']].sort_values(by='controversiality', ascending=False)\n",
        "\n",
        "# Set up the matplotlib figure\n",
        "f, ax = plt.subplots(figsize=(11, 11))\n",
        "\n",
        "# Draw the heatmap with the mask and correct aspect ratio\n",
        "heatmap = sns.heatmap(corr,  cmap='BrBG', vmax=.3, center=0,\n",
        "            square=True, linewidths=.5, cbar_kws={\"shrink\": .5}, annot=True)\n",
        "heatmap.set_title('Features Correlating with Controversiality', fontdict={'fontsize':18}, pad=16);"
      ],
      "execution_count": null,
      "outputs": []
    }
  ]
}